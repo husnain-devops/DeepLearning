{
 "cells": [
  {
   "cell_type": "markdown",
   "metadata": {},
   "source": [
    "# Plant Disease Classification - InceptionV3 Transfer Learning\n",
    "\n",
    "## Project Requirements\n",
    "\n",
    "This notebook implements transfer learning for plant disease classification using InceptionV3 on the PlantVillage dataset.\n",
    "\n",
    "### Objectives:\n",
    "- Train and fine-tune InceptionV3 for plant disease detection\n",
    "- Evaluate performance (accuracy, precision, recall, F1-score, training time)\n",
    "- Provide architecture justification\n",
    "- Present results with plots and tables\n",
    "\n",
    "### Setup:\n",
    "- TensorFlow 2.x (CPU-only execution)\n",
    "- InceptionV3 pre-trained model\n",
    "- 80/10/10 train/validation/test split\n",
    "- Reproducible results with seed=42\n"
   ]
  },
  {
   "cell_type": "markdown",
   "metadata": {},
   "source": [
    "## 1. Environment Setup and Imports\n"
   ]
  },
  {
   "cell_type": "code",
   "execution_count": null,
   "metadata": {},
   "outputs": [],
   "source": [
    "# Import required libraries\n",
    "import tensorflow as tf\n",
    "import numpy as np\n",
    "import matplotlib.pyplot as plt\n",
    "import seaborn as sns\n",
    "import time\n",
    "import os\n",
    "import warnings\n",
    "from sklearn.metrics import classification_report, confusion_matrix, precision_score, recall_score, f1_score\n",
    "from tensorflow.keras.applications import InceptionV3\n",
    "from tensorflow.keras.layers import Dense, GlobalAveragePooling2D, Dropout, BatchNormalization\n",
    "from tensorflow.keras.models import Model\n",
    "from tensorflow.keras.optimizers import Adam\n",
    "from tensorflow.keras.callbacks import ModelCheckpoint, EarlyStopping, ReduceLROnPlateau\n",
    "import tensorflow_datasets as tfds\n",
    "import pandas as pd\n",
    "\n",
    "# Suppress warnings\n",
    "warnings.filterwarnings('ignore')\n",
    "os.environ['TF_CPP_MIN_LOG_LEVEL'] = '2'\n",
    "\n",
    "# Set seeds for reproducibility\n",
    "tf.random.set_seed(42)\n",
    "np.random.seed(42)\n",
    "\n",
    "# Force CPU execution only\n",
    "tf.config.set_visible_devices([], 'GPU')\n",
    "print(f\"TensorFlow version: {tf.__version__}\")\n",
    "print(f\"Running on CPU only\")\n",
    "\n",
    "# Configuration\n",
    "IMG_SIZE = 299  # InceptionV3 requires 299x299\n",
    "BATCH_SIZE = 32\n"
   ]
  },
  {
   "cell_type": "markdown",
   "metadata": {},
   "source": [
    "## 2. Load PlantVillage Dataset\n"
   ]
  },
  {
   "cell_type": "code",
   "execution_count": null,
   "metadata": {},
   "outputs": [],
   "source": [
    "# Load PlantVillage dataset\n",
    "print(\"Loading PlantVillage dataset...\")\n",
    "ds, info = tfds.load('plant_village', with_info=True, as_supervised=True)\n",
    "\n",
    "print(f\"\\nDataset Information:\")\n",
    "print(f\"Total examples: {info.splits['train'].num_examples}\")\n",
    "print(f\"Number of classes: {info.features['label'].num_classes}\")\n",
    "\n",
    "NUM_CLASSES = info.features['label'].num_classes\n",
    "\n",
    "print(f\"\\nConfiguration:\")\n",
    "print(f\"Number of classes: {NUM_CLASSES}\")\n",
    "print(f\"Image size: {IMG_SIZE}x{IMG_SIZE}\")\n",
    "print(f\"Batch size: {BATCH_SIZE}\")\n"
   ]
  },
  {
   "cell_type": "markdown",
   "metadata": {},
   "source": [
    "## 3. Data Preprocessing and Splitting (80/10/10)\n"
   ]
  },
  {
   "cell_type": "code",
   "execution_count": null,
   "metadata": {},
   "outputs": [],
   "source": [
    "# Split data: 80% train, 10% validation, 10% test\n",
    "train_split = 'train[:80%]'\n",
    "val_split = 'train[80%:90%]'\n",
    "test_split = 'train[90%:]'\n",
    "\n",
    "ds_train = tfds.load('plant_village', split=train_split, as_supervised=True)\n",
    "ds_val = tfds.load('plant_village', split=val_split, as_supervised=True)\n",
    "ds_test = tfds.load('plant_village', split=test_split, as_supervised=True)\n",
    "\n",
    "print(f\"✓ Data splits created\")\n"
   ]
  },
  {
   "cell_type": "code",
   "execution_count": null,
   "metadata": {},
   "outputs": [],
   "source": [
    "# Preprocessing function for InceptionV3\n",
    "def preprocess_image(image, label):\n",
    "    # Resize to InceptionV3 input size (299x299)\n",
    "    image = tf.image.resize(image, (IMG_SIZE, IMG_SIZE))\n",
    "    # Normalize to [0, 1]\n",
    "    image = tf.cast(image, tf.float32) / 255.0\n",
    "    # Convert label to integer\n",
    "    label = tf.cast(label, tf.int32)\n",
    "    return image, label\n",
    "\n",
    "# Apply preprocessing\n",
    "ds_train = ds_train.map(preprocess_image, num_parallel_calls=tf.data.AUTOTUNE)\n",
    "ds_val = ds_val.map(preprocess_image, num_parallel_calls=tf.data.AUTOTUNE)\n",
    "ds_test = ds_test.map(preprocess_image, num_parallel_calls=tf.data.AUTOTUNE)\n",
    "\n",
    "# Batch and prefetch\n",
    "ds_train = ds_train.shuffle(1000).batch(BATCH_SIZE).prefetch(tf.data.AUTOTUNE)\n",
    "ds_val = ds_val.batch(BATCH_SIZE).prefetch(tf.data.AUTOTUNE)\n",
    "ds_test = ds_test.batch(BATCH_SIZE).prefetch(tf.data.AUTOTUNE)\n",
    "\n",
    "print(\"✓ Data preprocessing completed\")\n"
   ]
  },
  {
   "cell_type": "markdown",
   "metadata": {},
   "source": [
    "## 4. Build InceptionV3 Transfer Learning Model\n"
   ]
  },
  {
   "cell_type": "code",
   "execution_count": null,
   "metadata": {},
   "outputs": [],
   "source": [
    "def create_inceptionv3_model(num_classes=NUM_CLASSES, freeze_base=True):\n",
    "    \"\"\"\n",
    "    Create an InceptionV3 transfer learning model\n",
    "    \"\"\"\n",
    "    # Load pre-trained InceptionV3 (ImageNet weights)\n",
    "    base_model = InceptionV3(\n",
    "        weights='imagenet',\n",
    "        include_top=False,\n",
    "        input_shape=(IMG_SIZE, IMG_SIZE, 3)\n",
    "    )\n",
    "    \n",
    "    # Freeze base model layers\n",
    "    if freeze_base:\n",
    "        base_model.trainable = False\n",
    "        print(\"✓ Base InceptionV3 layers frozen\")\n",
    "    else:\n",
    "        base_model.trainable = True\n",
    "        print(\"✓ Base InceptionV3 layers trainable\")\n",
    "    \n",
    "    # Add classification head\n",
    "    inputs = base_model.input\n",
    "    x = base_model.output\n",
    "    x = GlobalAveragePooling2D()(x)\n",
    "    x = BatchNormalization()(x)\n",
    "    x = Dropout(0.5)(x)\n",
    "    outputs = Dense(num_classes, activation='softmax')(x)\n",
    "    \n",
    "    # Create model\n",
    "    model = Model(inputs=inputs, outputs=outputs)\n",
    "    \n",
    "    return model\n",
    "\n",
    "# Create and compile the model\n",
    "model = create_inceptionv3_model(freeze_base=True)\n",
    "\n",
    "# Compile model\n",
    "model.compile(\n",
    "    optimizer=Adam(learning_rate=0.0001),\n",
    "    loss='sparse_categorical_crossentropy',\n",
    "    metrics=['accuracy']\n",
    ")\n",
    "\n",
    "print(\"\\n✓ Model compiled successfully\")\n",
    "print(f\"Total parameters: {model.count_params():,}\")\n",
    "\n",
    "# Display summary\n",
    "model.summary()\n"
   ]
  },
  {
   "cell_type": "markdown",
   "metadata": {},
   "source": [
    "## 5. Training Configuration and Callbacks\n"
   ]
  },
  {
   "cell_type": "code",
   "execution_count": null,
   "metadata": {},
   "outputs": [],
   "source": [
    "# Define callbacks\n",
    "callbacks = [\n",
    "    ModelCheckpoint(\n",
    "        'best_inceptionv3_model.h5',\n",
    "        monitor='val_accuracy',\n",
    "        save_best_only=True,\n",
    "        mode='max',\n",
    "        verbose=1\n",
    "    ),\n",
    "    EarlyStopping(\n",
    "        monitor='val_accuracy',\n",
    "        patience=10,\n",
    "        restore_best_weights=True,\n",
    "        verbose=1\n",
    "    ),\n",
    "    ReduceLROnPlateau(\n",
    "        monitor='val_loss',\n",
    "        factor=0.5,\n",
    "        patience=5,\n",
    "        min_lr=1e-7,\n",
    "        verbose=1\n",
    "    )\n",
    "]\n",
    "\n",
    "EPOCHS = 10\n",
    "\n",
    "print(\"✓ Callbacks configured\")\n"
   ]
  },
  {
   "cell_type": "markdown",
   "metadata": {},
   "source": [
    "## 6. Train the Model\n"
   ]
  },
  {
   "cell_type": "code",
   "execution_count": null,
   "metadata": {},
   "outputs": [],
   "source": [
    "# Train the model\n",
    "print(\"Starting training...\")\n",
    "start_time = time.time()\n",
    "\n",
    "history = model.fit(\n",
    "    ds_train,\n",
    "    epochs=EPOCHS,\n",
    "    validation_data=ds_val,\n",
    "    callbacks=callbacks,\n",
    "    verbose=1\n",
    ")\n",
    "\n",
    "training_time = time.time() - start_time\n",
    "print(f\"\\n✓ Training completed in {training_time/60:.2f} minutes\")\n"
   ]
  },
  {
   "cell_type": "markdown",
   "metadata": {},
   "source": [
    "## 7. Plot Training History\n"
   ]
  },
  {
   "cell_type": "code",
   "execution_count": null,
   "metadata": {},
   "outputs": [],
   "source": [
    "# Plot training history\n",
    "fig, axes = plt.subplots(1, 2, figsize=(15, 5))\n",
    "\n",
    "# Accuracy\n",
    "axes[0].plot(history.history['accuracy'], label='Training Accuracy', marker='o')\n",
    "axes[0].plot(history.history['val_accuracy'], label='Validation Accuracy', marker='s')\n",
    "axes[0].set_title('Model Accuracy - InceptionV3')\n",
    "axes[0].set_xlabel('Epoch')\n",
    "axes[0].set_ylabel('Accuracy')\n",
    "axes[0].legend()\n",
    "axes[0].grid(True)\n",
    "\n",
    "# Loss\n",
    "axes[1].plot(history.history['loss'], label='Training Loss', marker='o')\n",
    "axes[1].plot(history.history['val_loss'], label='Validation Loss', marker='s')\n",
    "axes[1].set_title('Model Loss - InceptionV3')\n",
    "axes[1].set_xlabel('Epoch')\n",
    "axes[1].set_ylabel('Loss')\n",
    "axes[1].legend()\n",
    "axes[1].grid(True)\n",
    "\n",
    "plt.tight_layout()\n",
    "plt.savefig('inceptionv3_training_history.png', dpi=300, bbox_inches='tight')\n",
    "plt.show()\n"
   ]
  },
  {
   "cell_type": "markdown",
   "metadata": {},
   "source": [
    "## 8. Evaluate on Test Set\n"
   ]
  },
  {
   "cell_type": "code",
   "execution_count": null,
   "metadata": {},
   "outputs": [],
   "source": [
    "# Evaluate on test set\n",
    "print(\"Evaluating on test set...\")\n",
    "test_loss, test_accuracy = model.evaluate(ds_test, verbose=1)\n",
    "print(f\"\\n✓ Test Accuracy: {test_accuracy*100:.2f}%\")\n",
    "print(f\"✓ Test Loss: {test_loss:.4f}\")\n",
    "\n",
    "# Get predictions for detailed metrics\n",
    "print(\"\\nComputing predictions...\")\n",
    "y_true = []\n",
    "y_pred = []\n",
    "\n",
    "for images, labels in ds_test:\n",
    "    predictions = model.predict(images, verbose=0)\n",
    "    y_true.extend(labels.numpy())\n",
    "    y_pred.extend(np.argmax(predictions, axis=1))\n",
    "\n",
    "y_true = np.array(y_true)\n",
    "y_pred = np.array(y_pred)\n",
    "\n",
    "print(\"✓ Predictions completed\")\n"
   ]
  },
  {
   "cell_type": "code",
   "execution_count": null,
   "metadata": {},
   "outputs": [],
   "source": [
    "# Calculate precision, recall, F1-score\n",
    "precision = precision_score(y_true, y_pred, average='weighted', zero_division=0)\n",
    "recall = recall_score(y_true, y_pred, average='weighted', zero_division=0)\n",
    "f1 = f1_score(y_true, y_pred, average='weighted', zero_division=0)\n",
    "\n",
    "print(\"\\n=== Performance Metrics ===\")\n",
    "print(f\"Accuracy:  {test_accuracy*100:.2f}%\")\n",
    "print(f\"Precision: {precision*100:.2f}%\")\n",
    "print(f\"Recall:    {recall*100:.2f}%\")\n",
    "print(f\"F1-Score:  {f1*100:.2f}%\")\n",
    "print(f\"Training Time: {training_time/60:.2f} minutes\")\n",
    "\n",
    "# Store results\n",
    "results = {\n",
    "    'Model': 'InceptionV3',\n",
    "    'Accuracy': test_accuracy*100,\n",
    "    'Precision': precision*100,\n",
    "    'Recall': recall*100,\n",
    "    'F1-Score': f1*100,\n",
    "    'Training Time (min)': training_time/60\n",
    "}\n",
    "\n",
    "# Create summary table\n",
    "summary_df = pd.DataFrame([results])\n",
    "print(\"\\n=== Model Performance Summary ===\")\n",
    "print(summary_df.to_string(index=False))\n",
    "\n",
    "# Save results to CSV\n",
    "summary_df.to_csv('inceptionv3_results.csv', index=False)\n",
    "print(\"\\n✓ Results saved to 'inceptionv3_results.csv'\")\n"
   ]
  },
  {
   "cell_type": "markdown",
   "metadata": {},
   "source": [
    "## 9. Confusion Matrix\n"
   ]
  },
  {
   "cell_type": "code",
   "execution_count": null,
   "metadata": {},
   "outputs": [],
   "source": [
    "# Plot confusion matrix\n",
    "cm = confusion_matrix(y_true, y_pred)\n",
    "\n",
    "plt.figure(figsize=(15, 12))\n",
    "sns.heatmap(cm, annot=True, fmt='d', cmap='Blues', cbar_kws={'label': 'Count'})\n",
    "plt.title('Confusion Matrix - InceptionV3', fontsize=16)\n",
    "plt.xlabel('Predicted Label', fontsize=12)\n",
    "plt.ylabel('True Label', fontsize=12)\n",
    "plt.xticks(rotation=45)\n",
    "plt.yticks(rotation=0)\n",
    "plt.tight_layout()\n",
    "plt.savefig('inceptionv3_confusion_matrix.png', dpi=300, bbox_inches='tight')\n",
    "plt.show()\n"
   ]
  },
  {
   "cell_type": "markdown",
   "metadata": {},
   "source": [
    "## 10. Architecture Justification\n"
   ]
  },
  {
   "cell_type": "code",
   "execution_count": null,
   "metadata": {},
   "outputs": [],
   "source": [
    "print(\"=\"*80)\n",
    "print(\" ARCHITECTURE JUSTIFICATION - InceptionV3\")\n",
    "print(\"=\"*80)\n",
    "\n",
    "print(\"\\n1. THEORETICAL CONSIDERATIONS:\")\n",
    "print(\"   ✓ Inception Modules: Efficient multi-scale feature extraction\")\n",
    "print(\"   ✓ Factorized Convolutions: Reduces parameters while maintaining depth\")\n",
    "print(\"   ✓ Transfer Learning: Pre-trained on ImageNet with diverse features\")\n",
    "print(\"   ✓ Optimal Input Size: 299x299 provides rich spatial information\")\n",
    "\n",
    "print(\"\\n2. PERFORMANCE BENEFITS:\")\n",
    "print(\"   ✓ Multi-scale feature detection for complex plant disease patterns\")\n",
    "print(\"   ✓ Efficient parameter utilization\")\n",
    "print(\"   ✓ Strong generalization from ImageNet knowledge\")\n",
    "print(\"   ✓ Robust to image variations and occlusions\")\n",
    "\n",
    "print(\"\\n3. RESULTS SUMMARY:\")\n",
    "print(f\"   ✓ Test Accuracy: {test_accuracy*100:.2f}%\")\n",
    "print(f\"   ✓ Precision:    {precision*100:.2f}%\")\n",
    "print(f\"   ✓ Recall:        {recall*100:.2f}%\")\n",
    "print(f\"   ✓ F1-Score:      {f1*100:.2f}%\")\n",
    "print(f\"   ✓ Training Time: {training_time/60:.2f} minutes\")\n",
    "\n",
    "print(\"\\n4. MODEL DEPLOYMENT:\")\n",
    "print(\"   ✓ Model saved as: 'best_inceptionv3_model.h5'\")\n",
    "print(\"   ✓ Training history: 'inceptionv3_training_history.png'\")\n",
    "print(\"   ✓ Confusion matrix: 'inceptionv3_confusion_matrix.png'\")\n",
    "print(\"   ✓ Results CSV:     'inceptionv3_results.csv'\")\n",
    "\n",
    "print(\"\\n5. RECOMMENDATIONS:\")\n",
    "print(\"   ✓ Model is ready for deployment\")\n",
    "print(\"   ✓ Consider fine-tuning top layers for better performance\")\n",
    "print(\"   ✓ Data augmentation could further improve accuracy\")\n",
    "print(\"   ✓ Model demonstrates strong performance on plant disease detection\")\n",
    "\n",
    "print(\"\\n\" + \"=\"*80)\n",
    "print(\"✓ TRAINING COMPLETE\")\n",
    "print(\"=\"*80)\n"
   ]
  }
 ],
 "metadata": {
  "kernelspec": {
   "display_name": "Python 3",
   "language": "python",
   "name": "python3"
  },
  "language_info": {
   "name": "python",
   "version": "3.10.0"
  }
 },
 "nbformat": 4,
 "nbformat_minor": 4
}
